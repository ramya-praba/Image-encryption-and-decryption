{
  "cells": [
    {
      "cell_type": "code",
      "execution_count": null,
      "metadata": {
        "colab": {
          "base_uri": "https://localhost:8080/"
        },
        "id": "8cz5uOuZJdID",
        "outputId": "83c7316c-021f-4b04-f0f4-0e482dbd25a1"
      },
      "outputs": [
        {
          "output_type": "stream",
          "name": "stdout",
          "text": [
            "SHA-512 hash value: e75ec59b72cf8886a936302e812e61a079876acbc1daef44c608a77de789a24cff6183031beb3e6e9148ac4c4e7dbb8563310d65ce4257460c1214aee7db7d9a\n"
          ]
        }
      ],
      "source": [
        "import hashlib\n",
        "from PIL import Image\n",
        "\n",
        "# Open the image file\n",
        "image_file = Image.open(\"/content/bwimages.jpg\")\n",
        "\n",
        "# Convert the image to bytes\n",
        "image_bytes = image_file.tobytes()\n",
        "\n",
        "# Generate the hash object using SHA-512 algorithm\n",
        "hash_object = hashlib.sha512()\n",
        "\n",
        "# Update the hash object with the image bytes\n",
        "hash_object.update(image_bytes)\n",
        "\n",
        "# Generate the hash value in hexadecimal format\n",
        "hash_hex = hash_object.hexdigest()\n",
        "# Print the hash value\n",
        "print(\"SHA-512 hash value:\", hash_hex)"
      ]
    },
    {
      "cell_type": "code",
      "execution_count": null,
      "metadata": {
        "colab": {
          "base_uri": "https://localhost:8080/"
        },
        "id": "OLbU-SLeKDTB",
        "outputId": "b484c9c3-7ddf-480b-eeaa-93d0b316b9fe"
      },
      "outputs": [
        {
          "output_type": "execute_result",
          "data": {
            "text/plain": [
              "['e75ec59b72cf8886a936302e812e61a0',\n",
              " '79876acbc1daef44c608a77de789a24c',\n",
              " 'ff6183031beb3e6e9148ac4c4e7dbb85',\n",
              " '63310d65ce4257460c1214aee7db7d9a']"
            ]
          },
          "metadata": {},
          "execution_count": 2
        }
      ],
      "source": [
        "#DIVIDING INTO 4 PARTS\n",
        "#Our contribution\n",
        "import textwrap\n",
        "prekeys=textwrap.wrap(hash_hex, 32)\n",
        "prekeys"
      ]
    },
    {
      "cell_type": "code",
      "execution_count": null,
      "metadata": {
        "colab": {
          "base_uri": "https://localhost:8080/"
        },
        "id": "bxuaYhtKKKv4",
        "outputId": "157584a6-0a34-4431-e3bd-94446ccdc3f8"
      },
      "outputs": [
        {
          "output_type": "execute_result",
          "data": {
            "text/plain": [
              "[0.04603859763960827,\n",
              " 0.8555441413199993,\n",
              " 0.04946458116016572,\n",
              " 0.9828668749154592]"
            ]
          },
          "metadata": {},
          "execution_count": 3
        }
      ],
      "source": [
        "keys=[]\n",
        "for i in prekeys:\n",
        "  dec_value = int(i, 16)\n",
        "  keys.append(dec_value%0.9999)\n",
        "keys"
      ]
    },
    {
      "cell_type": "code",
      "execution_count": null,
      "metadata": {
        "colab": {
          "base_uri": "https://localhost:8080/"
        },
        "id": "Er0pk1dtKMYQ",
        "outputId": "bdebf411-6950-4ba2-f8e6-51ffa9a65255"
      },
      "outputs": [
        {
          "output_type": "stream",
          "name": "stdout",
          "text": [
            "Looking in indexes: https://pypi.org/simple, https://us-python.pkg.dev/colab-wheels/public/simple/\n",
            "Requirement already satisfied: cryptography in /usr/local/lib/python3.10/dist-packages (40.0.2)\n",
            "Requirement already satisfied: cffi>=1.12 in /usr/local/lib/python3.10/dist-packages (from cryptography) (1.15.1)\n",
            "Requirement already satisfied: pycparser in /usr/local/lib/python3.10/dist-packages (from cffi>=1.12->cryptography) (2.21)\n"
          ]
        }
      ],
      "source": [
        "!pip install cryptography"
      ]
    },
    {
      "cell_type": "code",
      "execution_count": null,
      "metadata": {
        "id": "zj7vWUP_KlAJ"
      },
      "outputs": [],
      "source": [
        "#ELLIPTIC CURVE KEY GENERATION\n",
        "import os\n",
        "import hashlib\n",
        "from cryptography.hazmat.primitives.asymmetric import ec\n",
        "from cryptography.hazmat.primitives.serialization import Encoding, PublicFormat\n",
        "\n",
        "# Generate a private key using P-256 curve\n",
        "private_key = ec.generate_private_key(ec.SECP256R1())\n",
        "\n",
        "# Get the corresponding public key\n",
        "public_key = private_key.public_key()\n",
        "\n",
        "# Convert the public key to bytes and hash it\n",
        "public_key_bytes = public_key.public_bytes(Encoding.X962, PublicFormat.CompressedPoint)\n",
        "key_hash = hashlib.sha256(public_key_bytes).digest()"
      ]
    },
    {
      "cell_type": "code",
      "execution_count": null,
      "metadata": {
        "colab": {
          "base_uri": "https://localhost:8080/"
        },
        "id": "k2jOunwGKmlY",
        "outputId": "354a3468-e7f1-44e2-b740-734fe9df63e2"
      },
      "outputs": [
        {
          "output_type": "stream",
          "name": "stdout",
          "text": [
            "[b'\\x15\\xd0Z\\x06&\\xd8ADS\\xb7p\\xe1}\\x89d\\x81;6\\xf2']\n",
            "b'\\x15\\xd0Z\\x06&\\xd8ADS\\xb7p\\xe1}\\x89d\\x81;6\\xf2'\n",
            "Original value: 0.04603859763960827\n",
            "Encrypted value: b'\\x15\\xd0Z\\x06&\\xd8ADS\\xb7p\\xe1}\\x89d\\x81;6\\xf2'\n",
            "[b'\\x15\\xd0Z\\x06&\\xd8ADS\\xb7p\\xe1}\\x89d\\x81;6\\xf2', b'\\x15\\xd0R\\x07%\\xddFHW\\xbav\\xe4\\x7f\\x89k\\x88:7']\n",
            "b'\\x15\\xd0R\\x07%\\xddFHW\\xbav\\xe4\\x7f\\x89k\\x88:7'\n",
            "Original value: 0.8555441413199993\n",
            "Encrypted value: b'\\x15\\xd0R\\x07%\\xddFHW\\xbav\\xe4\\x7f\\x89k\\x88:7'\n",
            "[b'\\x15\\xd0Z\\x06&\\xd8ADS\\xb7p\\xe1}\\x89d\\x81;6\\xf2', b'\\x15\\xd0R\\x07%\\xddFHW\\xbav\\xe4\\x7f\\x89k\\x88:7', b'\\x15\\xd0Z\\x06)\\xdcDHS\\xb6v\\xe6x\\x80c\\x8763\\xf7']\n",
            "b'\\x15\\xd0Z\\x06)\\xdcDHS\\xb6v\\xe6x\\x80c\\x8763\\xf7'\n",
            "Original value: 0.04946458116016572\n",
            "Encrypted value: b'\\x15\\xd0Z\\x06)\\xdcDHS\\xb6v\\xe6x\\x80c\\x8763\\xf7'\n",
            "[b'\\x15\\xd0Z\\x06&\\xd8ADS\\xb7p\\xe1}\\x89d\\x81;6\\xf2', b'\\x15\\xd0R\\x07%\\xddFHW\\xbav\\xe4\\x7f\\x89k\\x88:7', b'\\x15\\xd0Z\\x06)\\xdcDHS\\xb6v\\xe6x\\x80c\\x8763\\xf7', b'\\x15\\xd0S\\n\"\\xd0DJ^\\xb9s\\xee\\x7f\\x85f\\x84:6']\n",
            "b'\\x15\\xd0S\\n\"\\xd0DJ^\\xb9s\\xee\\x7f\\x85f\\x84:6'\n",
            "Original value: 0.9828668749154592\n",
            "Encrypted value: b'\\x15\\xd0S\\n\"\\xd0DJ^\\xb9s\\xee\\x7f\\x85f\\x84:6'\n"
          ]
        }
      ],
      "source": [
        "# Encrypting keys\n",
        "en=[]\n",
        "for i in keys:\n",
        "  original_value = i\n",
        "  value_bytes = bytes(str(original_value), 'utf-8')\n",
        "  encrypted_value = bytes([value_bytes[i] ^ key_hash[i % len(key_hash)] for i in range(len(value_bytes))])\n",
        "  en.append(encrypted_value)\n",
        "  # Decrypt the encrypted value\n",
        "  decrypted_value_bytes = bytes([encrypted_value[i] ^ key_hash[i % len(key_hash)] for i in range(len(encrypted_value))])\n",
        "  decrypted_value = float(decrypted_value_bytes.decode('utf-8'))\n",
        "  # Output the results\n",
        "  print(en)\n",
        "  print(encrypted_value)\n",
        "  print(f\"Original value: {original_value}\")\n",
        "  print(f\"Encrypted value: {encrypted_value}\")\n",
        "  #print(f\"decrypted value: {decrypted_value}\")"
      ]
    },
    {
      "cell_type": "code",
      "execution_count": null,
      "metadata": {
        "colab": {
          "base_uri": "https://localhost:8080/"
        },
        "id": "gX0w5HtUK2IX",
        "outputId": "e29a948e-74d6-4926-b082-e759f25885eb"
      },
      "outputs": [
        {
          "output_type": "stream",
          "name": "stdout",
          "text": [
            "[498, 1641, 2773, 286, 1030, 2623, 822, 2334, 1677, 2750]\n"
          ]
        }
      ],
      "source": [
        "#GENERATING KEYSTREAMS USING LOGISTIC CHAOTIC MAP\n",
        "import numpy as np\n",
        "import cv2\n",
        "image=cv2.imread('/content/bwimages.jpg')\n",
        "flat_image = image.flatten()\n",
        "height,width,c=image.shape\n",
        "\n",
        "def logistic_map(x, r):\n",
        "    \"\"\"\n",
        "    Generate key stream values using the logistic map.\n",
        "    \"\"\"\n",
        "    key_stream = []\n",
        "    for i in range(height):\n",
        "        x = r * x * (1 - x)\n",
        "        key_stream.append(int(np.round(x * height - 1))%height)\n",
        "    return key_stream\n",
        "\n",
        "# Set the initial value and parameters for the logistic map\n",
        "\n",
        "r = 3.99\n",
        "\n",
        "# Generate the key stream using the logistic map\n",
        "key_stream1 = logistic_map(keys[0], r)\n",
        "key_stream2 = logistic_map(keys[1], r)\n",
        "key_stream3 = logistic_map(keys[2], r)\n",
        "key_stream4 = logistic_map(keys[3], r)\n",
        "\n",
        "# Print the first 10 values of the key stream1\n",
        "print(key_stream1[:10])"
      ]
    },
    {
      "cell_type": "code",
      "source": [
        "# Print the first 10 values of the key stream1\n",
        "print(key_stream1[:10])\n",
        "# Print the first 10 values of the key stream2\n",
        "print(key_stream2[:10])"
      ],
      "metadata": {
        "colab": {
          "base_uri": "https://localhost:8080/"
        },
        "id": "o7AeSmt8vDz_",
        "outputId": "e006dc54-2a5d-417b-d506-9e61875051a4"
      },
      "execution_count": null,
      "outputs": [
        {
          "output_type": "stream",
          "name": "stdout",
          "text": [
            "[498, 1641, 2773, 286, 1030, 2623, 822, 2334, 1677, 2750]\n",
            "[1403, 2839, 29, 119, 459, 1537, 2822, 99, 385, 1331]\n"
          ]
        }
      ]
    },
    {
      "cell_type": "code",
      "execution_count": null,
      "metadata": {
        "id": "ejosv8fkM5b5"
      },
      "outputs": [],
      "source": [
        "from PIL import Image\n",
        "import numpy as np\n",
        "\n",
        "image = Image.open('/content/bwimages.jpg')\n",
        "image_array = np.array(image)\n"
      ]
    },
    {
      "cell_type": "code",
      "execution_count": null,
      "metadata": {
        "id": "z7qlRLPOM_t1"
      },
      "outputs": [],
      "source": [
        "#GENERATING PERMUTATION SEQUENCE\n",
        "#Our contribution\n",
        "key = np.array(key_stream1[:5]) # replace with your float array key\n",
        "num_rows = image_array.shape[0]\n",
        "permutation_indices = np.random.RandomState(seed=key).permutation(num_rows)\n"
      ]
    },
    {
      "cell_type": "code",
      "execution_count": null,
      "metadata": {
        "id": "BA2QKMf2UKfP"
      },
      "outputs": [],
      "source": [
        "#ROW PERMUTATION\n",
        "#Our contribution\n",
        "permuted_image_array = image_array[permutation_indices, :]"
      ]
    },
    {
      "cell_type": "code",
      "execution_count": null,
      "metadata": {
        "id": "9IslsMflUQBi"
      },
      "outputs": [],
      "source": [
        "permuted_image = Image.fromarray(permuted_image_array)\n",
        "permuted_image.save('permuted_image.png')"
      ]
    },
    {
      "cell_type": "code",
      "execution_count": null,
      "metadata": {
        "id": "MXGTODLsUgY0"
      },
      "outputs": [],
      "source": [
        "from PIL import Image\n",
        "import numpy as np\n",
        "\n",
        "image = Image.open('/content/permuted_image.png')\n",
        "image_array = np.array(image)"
      ]
    },
    {
      "cell_type": "code",
      "execution_count": null,
      "metadata": {
        "id": "jP70hMQiUk7S"
      },
      "outputs": [],
      "source": [
        "#GENERATING PERMUTATION SEQUENCE\n",
        "#Our contribution\n",
        "key = np.array(key_stream2[:5]) # replace with your float array key\n",
        "num_cols = image_array.shape[1]\n",
        "permutation_indices = np.random.RandomState(seed=key).permutation(num_cols)"
      ]
    },
    {
      "cell_type": "code",
      "execution_count": null,
      "metadata": {
        "id": "8MINgPgMlMRx"
      },
      "outputs": [],
      "source": [
        "##COLUMN PERMUTATION\n",
        "#Our contribution\n",
        "permuted_image_array = image_array[:,permutation_indices, :]"
      ]
    },
    {
      "cell_type": "code",
      "execution_count": null,
      "metadata": {
        "id": "dj74V8TYUpJx"
      },
      "outputs": [],
      "source": [
        "permuted_image = Image.fromarray(permuted_image_array)\n",
        "permuted_image.save('col_permuted_image.png')"
      ]
    },
    {
      "cell_type": "code",
      "execution_count": null,
      "metadata": {
        "colab": {
          "base_uri": "https://localhost:8080/"
        },
        "id": "0EgP12IYFANS",
        "outputId": "24f8de7c-79fa-4357-ed5f-c95ea89897db"
      },
      "outputs": [
        {
          "output_type": "execute_result",
          "data": {
            "text/plain": [
              "True"
            ]
          },
          "metadata": {},
          "execution_count": 17
        }
      ],
      "source": [
        "#DCT\n",
        "import cv2\n",
        "import numpy as np\n",
        "\n",
        "# Load image\n",
        "img = cv2.imread('col_permuted_image.png')\n",
        "\n",
        "# Split image into channels\n",
        "b, g, r = cv2.split(img)\n",
        "\n",
        "# Define DCT function\n",
        "def dct2(block):\n",
        "    return cv2.dct(cv2.dct(block.T).T)\n",
        "\n",
        "\n",
        "\n",
        "# Perform DCT on each channel\n",
        "dct_b = dct2(b.astype(np.float32))\n",
        "dct_g = dct2(g.astype(np.float32))\n",
        "dct_r = dct2(r.astype(np.float32))\n",
        "\n",
        "dct_img = cv2.merge((dct_b,dct_g,dct_r))\n",
        "cv2.imwrite('dct_image.png', dct_img)"
      ]
    },
    {
      "cell_type": "code",
      "execution_count": null,
      "metadata": {
        "colab": {
          "base_uri": "https://localhost:8080/"
        },
        "id": "ljr7WoAbR7v1",
        "outputId": "64c01937-9b9c-4545-84fe-d0bfe0677b50"
      },
      "outputs": [
        {
          "output_type": "stream",
          "name": "stdout",
          "text": [
            "[[[222 244 206]\n",
            "  [164 192  44]\n",
            "  [211 169 151]\n",
            "  ...\n",
            "  [249 241  84]\n",
            "  [ 23 181 254]\n",
            "  [107 120  49]]\n",
            "\n",
            " [[178 130 151]\n",
            "  [179 247 116]\n",
            "  [225 241 155]\n",
            "  ...\n",
            "  [244 190 204]\n",
            "  [ 64  52 170]\n",
            "  [178 162  71]]\n",
            "\n",
            " [[ 68  60 252]\n",
            "  [144   3 100]\n",
            "  [117 253  34]\n",
            "  ...\n",
            "  [180  40 248]\n",
            "  [224  88  73]\n",
            "  [  3 207  81]]\n",
            "\n",
            " ...\n",
            "\n",
            " [[ 37 194 141]\n",
            "  [216 193 204]\n",
            "  [ 49 231 199]\n",
            "  ...\n",
            "  [118 202 163]\n",
            "  [237 189  47]\n",
            "  [ 85 111 203]]\n",
            "\n",
            " [[ 36 154  68]\n",
            "  [134 253 192]\n",
            "  [ 99 129 127]\n",
            "  ...\n",
            "  [165  17 167]\n",
            "  [121 223 145]\n",
            "  [ 33   8 224]]\n",
            "\n",
            " [[198  26 183]\n",
            "  [188 173  34]\n",
            "  [203 179 215]\n",
            "  ...\n",
            "  [105 190 142]\n",
            "  [152 118 227]\n",
            "  [110  93 248]]]\n",
            "keys:\n",
            "[[[152  96 251]\n",
            "  [172 194  54]\n",
            "  [ 75 179 240]\n",
            "  ...\n",
            "  [147  39   3]\n",
            "  [144  90  48]\n",
            "  [ 30 172   3]]\n",
            "\n",
            " [[129 115  34]\n",
            "  [ 37 203 106]\n",
            "  [141  83  37]\n",
            "  ...\n",
            "  [ 82  49  45]\n",
            "  [ 73  58  33]\n",
            "  [238 174  94]]\n",
            "\n",
            " [[ 58  90  34]\n",
            "  [177  25  60]\n",
            "  [ 43 204 223]\n",
            "  ...\n",
            "  [167 249  15]\n",
            "  [120  20 157]\n",
            "  [111 104  54]]\n",
            "\n",
            " ...\n",
            "\n",
            " [[230  84 203]\n",
            "  [174 227 124]\n",
            "  [ 66  86 163]\n",
            "  ...\n",
            "  [188 179 207]\n",
            "  [237  63  68]\n",
            "  [189 179 106]]\n",
            "\n",
            " [[141  64 136]\n",
            "  [207  15  91]\n",
            "  [134 140 241]\n",
            "  ...\n",
            "  [ 25 187 203]\n",
            "  [  2 146 133]\n",
            "  [ 10 128  16]]\n",
            "\n",
            " [[185 246 107]\n",
            "  [224 239 160]\n",
            "  [  4  49 206]\n",
            "  ...\n",
            "  [188 147 116]\n",
            "  [150  29 107]\n",
            "  [ 80 240 135]]]\n"
          ]
        }
      ],
      "source": [
        "#GENERATING SUBSTITUTION BOX\n",
        "#Our contribution\n",
        "import numpy as np\n",
        "from PIL import Image\n",
        "\n",
        "# Load the image data from a file\n",
        "image = np.array(Image.open(\"dct_image.png\"))\n",
        "\n",
        "# Calculate the size of the substitution box needed\n",
        "sbox_size = image.shape[0] * image.shape[1] * image.shape[2]\n",
        "\n",
        "# Generate a random substitution box with the required size\n",
        "sbox = np.arange(sbox_size, dtype=np.uint8)\n",
        "np.random.shuffle(sbox)\n",
        "\n",
        "# Reshape the substitution box to match the input image shape\n",
        "sbox = sbox.reshape(image.shape)\n",
        "\n",
        "# Generate a random key with the same shape as the input image\n",
        "key = np.random.randint(256, size=image.shape).astype(np.uint8)\n",
        "\n",
        "# Save the substitution box and key to files\n",
        "np.save(\"sbox.npy\", sbox)\n",
        "arr1=np.load(\"sbox.npy\")\n",
        "print(arr1)\n",
        "np.save(\"key.npy\", key)\n",
        "arr2=np.load(\"key.npy\")\n",
        "print(\"keys:\")\n",
        "print(arr2)"
      ]
    },
    {
      "cell_type": "code",
      "execution_count": null,
      "metadata": {
        "id": "judrpZp3S0An"
      },
      "outputs": [],
      "source": [
        "#PERFORMING BITWISE XOR\n",
        "#Our contribution\n",
        "imgforps = Image.open(\"/content/dct_image.png\")\n",
        "img_array = np.array(imgforps)\n",
        "encrypted_array = np.bitwise_xor(img_array, arr2)\n",
        "encrypted_img = Image.fromarray(encrypted_array)\n",
        "encrypted_img.save(\"sub_encrypted_image.png\")"
      ]
    },
    {
      "cell_type": "code",
      "execution_count": null,
      "metadata": {
        "id": "1v1im99md9-j"
      },
      "outputs": [],
      "source": [
        "import random\n",
        "from PIL import Image\n",
        "\n",
        "# Generate public and private keys\n",
        "def generate_keypair(p, q):\n",
        "    n = p * q\n",
        "    phi = (p - 1) * (q - 1)\n",
        "    e = random.randrange(1, phi)\n",
        "    while gcd(e, phi) != 1:\n",
        "        e = random.randrange(1, phi)\n",
        "    d = modinv(e, phi)\n",
        "    return ((n, e), (n, d))\n",
        "\n",
        "# Greatest common divisor\n",
        "def gcd(a, b):\n",
        "    while b != 0:\n",
        "        a, b = b, a % b\n",
        "    return a\n",
        "\n",
        "# Modular inverse\n",
        "def modinv(a, m):\n",
        "    g, x, y = egcd(a, m)\n",
        "    if g != 1:\n",
        "        raise Exception('Modular inverse does not exist')\n",
        "    return x % m\n",
        "\n",
        "# Extended Euclidean algorithm\n",
        "def egcd(a, b):\n",
        "    if a == 0:\n",
        "        return (b, 0, 1)\n",
        "    else:\n",
        "        g, y, x = egcd(b % a, a)\n",
        "        return (g, x - (b // a) * y, y)\n",
        "\n",
        "# Convert image to sequence of numbers\n",
        "def image_to_numbers(image_path):\n",
        "    with Image.open(image_path) as img:\n",
        "        pixels = img.load()\n",
        "        width, height = img.size\n",
        "        numbers = []\n",
        "        for y in range(height):\n",
        "            for x in range(width):\n",
        "                r, g, b = pixels[x, y]\n",
        "                numbers.extend([r, g, b])\n",
        "    return numbers, width, height\n",
        "\n",
        "# Convert sequence of numbers to image\n",
        "def numbers_to_image(numbers, width, height, image_path):\n",
        "    img = Image.new('RGB', (width, height))\n",
        "    pixels = img.load()\n",
        "    i = 0\n",
        "    for y in range(height):\n",
        "        for x in range(width):\n",
        "            r = numbers[i]\n",
        "            g = numbers[i + 1]\n",
        "            b = numbers[i + 2]\n",
        "            pixels[x, y] = (r, g, b)\n",
        "            i += 3\n",
        "    img.save(image_path)\n",
        "\n",
        "# Encrypt a message using a public key\n",
        "def encrypt(public_key, message):\n",
        "    n, e = public_key\n",
        "    encrypted = [pow(char, e, n) for char in message]\n",
        "    return encrypted"
      ]
    },
    {
      "cell_type": "code",
      "execution_count": null,
      "metadata": {
        "id": "JNobXakueJDA"
      },
      "outputs": [],
      "source": [
        "# Example usage\n",
        "p = 179\n",
        "q = 2789\n",
        "public_key, private_key = generate_keypair(p, q)\n",
        "image_path = '/content/sub_encrypted_image.png'\n",
        "numbers, width, height = image_to_numbers(image_path)\n",
        "encrypted_numbers = encrypt(public_key, numbers)\n",
        "numbers_to_image(encrypted_numbers, width, height, 'final_encrypted_img.png')"
      ]
    },
    {
      "cell_type": "code",
      "execution_count": null,
      "metadata": {
        "id": "_wZuO0dmUTWC"
      },
      "outputs": [],
      "source": [
        "##DECRYPTION"
      ]
    },
    {
      "cell_type": "code",
      "execution_count": null,
      "metadata": {
        "id": "w85U_6JohRYR"
      },
      "outputs": [],
      "source": [
        "#RSA decryption"
      ]
    },
    {
      "cell_type": "code",
      "execution_count": null,
      "metadata": {
        "id": "b9oSm7vYfB6-"
      },
      "outputs": [],
      "source": [
        "def decrypt(private_key, message):\n",
        "    n, d = private_key\n",
        "    decrypted = [pow(char, d, n) for char in message]\n",
        "    return decrypted"
      ]
    },
    {
      "cell_type": "code",
      "execution_count": null,
      "metadata": {
        "id": "TzKpy1Hie-La"
      },
      "outputs": [],
      "source": [
        "dimage_path = '/content/final_encrypted_img.png'\n",
        "numbersd1, widthd1, heightd1 = image_to_numbers(dimage_path)\n",
        "decrypted_numbers = decrypt(private_key, encrypted_numbers)\n",
        "numbers_to_image(decrypted_numbers, widthd1, heightd1, 'rsa_decrypted_img.png')"
      ]
    },
    {
      "cell_type": "code",
      "execution_count": null,
      "metadata": {
        "id": "LsKyiAvMU86x"
      },
      "outputs": [],
      "source": [
        "#pixel substitution on rsa decrypted image\n",
        "#Our contribution\n",
        "deimgforps = Image.open(\"/content/rsa_decrypted_img.png\")\n",
        "deimg_array = np.array(deimgforps)\n",
        "decrypted_array = np.bitwise_xor(deimg_array, arr2)\n",
        "decrypted_img = Image.fromarray(decrypted_array)\n",
        "decrypted_img.save(\"decrypted_image_from_ps.png\")"
      ]
    },
    {
      "cell_type": "code",
      "execution_count": null,
      "metadata": {
        "colab": {
          "base_uri": "https://localhost:8080/"
        },
        "id": "vVbtbjujZ9jF",
        "outputId": "87a67d9a-1dab-416a-f132-e4973efdb1a7"
      },
      "outputs": [
        {
          "output_type": "execute_result",
          "data": {
            "text/plain": [
              "True"
            ]
          },
          "metadata": {},
          "execution_count": 27
        }
      ],
      "source": [
        "#IDCT on decyrpted image grom pixel substitution\n",
        "import cv2\n",
        "import numpy as np\n",
        "\n",
        "# Load image\n",
        "img = cv2.imread('decrypted_image_from_ps.png')\n",
        "\n",
        "# Split image into channels\n",
        "b, g, r = cv2.split(img)\n",
        "\n",
        "# Define IDCT function\n",
        "def idct2(block):\n",
        "    return cv2.idct(cv2.idct(block.T).T)\n",
        "\n",
        "idct_b = idct2(dct_b).astype(np.uint8)\n",
        "idct_g = idct2(dct_g).astype(np.uint8)\n",
        "idct_r = idct2(dct_r).astype(np.uint8)\n",
        "\n",
        "idct_img = cv2.merge((idct_b, idct_g, idct_r))\n",
        "cv2.imwrite('idct_image.png', idct_img)"
      ]
    },
    {
      "cell_type": "code",
      "execution_count": null,
      "metadata": {
        "colab": {
          "base_uri": "https://localhost:8080/"
        },
        "id": "kQ3FlCmkscDZ",
        "outputId": "1bf53a22-58c5-47c5-abea-1d7397f5fca0"
      },
      "outputs": [
        {
          "output_type": "stream",
          "name": "stdout",
          "text": [
            "4\n",
            "decrypted value: 0.04603859763960827\n",
            "decrypted value: 0.8555441413199993\n",
            "decrypted value: 0.04946458116016572\n",
            "decrypted value: 0.9828668749154592\n",
            "[0.04603859763960827, 0.8555441413199993, 0.04946458116016572, 0.9828668749154592]\n"
          ]
        }
      ],
      "source": [
        "#DECRYPTING KEYS USING ELLIPTIC CURVE CRYPTOGRAPHY\n",
        "en_len = len(en)\n",
        "dkeys=[]\n",
        "print(en_len)\n",
        "for i in range(en_len):\n",
        "  a=en[i]\n",
        "  decrypted_value_bytes = bytes([a[i] ^ key_hash[i % len(key_hash)] for i in range(len(a))])\n",
        "  decrypted_value = float(decrypted_value_bytes.decode('utf-8'))\n",
        "  dkeys.append(decrypted_value)\n",
        "  # Output the results\n",
        "  print(f\"decrypted value: {decrypted_value}\")\n",
        "print(dkeys)"
      ]
    },
    {
      "cell_type": "code",
      "execution_count": null,
      "metadata": {
        "id": "DiB12lpgV1i9"
      },
      "outputs": [],
      "source": [
        "#keystream generation using logistic chaotic map"
      ]
    },
    {
      "cell_type": "code",
      "execution_count": null,
      "metadata": {
        "id": "yn3iHl9cXa-Y"
      },
      "outputs": [],
      "source": [
        "d_image=cv2.imread('/content/idct_image.png')"
      ]
    },
    {
      "cell_type": "code",
      "execution_count": null,
      "metadata": {
        "colab": {
          "base_uri": "https://localhost:8080/"
        },
        "id": "SYeEMdrGXtmM",
        "outputId": "0cc0b647-1e96-4775-fafb-f6c46da5a0e5"
      },
      "outputs": [
        {
          "output_type": "stream",
          "name": "stdout",
          "text": [
            "[498, 1641, 2773, 286, 1030, 2623, 822, 2334, 1677, 2750]\n"
          ]
        }
      ],
      "source": [
        "d_flat_image = d_image.flatten()\n",
        "d_height,d_width,d_c=d_image.shape\n",
        "\n",
        "def d_logistic_map(x, r):\n",
        "    \"\"\"\n",
        "    Generate key stream values using the logistic map.\n",
        "    \"\"\"\n",
        "    d_key_stream = []\n",
        "    for i in range(d_height):\n",
        "        x = r * x * (1 - x)\n",
        "        d_key_stream.append(int(np.round(x * d_height - 1))%d_height)\n",
        "    return d_key_stream\n",
        "\n",
        "# Set the initial value and parameters for the logistic map\n",
        "\n",
        "r = 3.99\n",
        "\n",
        "# Generate the key stream using the logistic map\n",
        "d_key_stream1 = d_logistic_map(dkeys[0], r)\n",
        "d_key_stream2 = d_logistic_map(dkeys[1], r)\n",
        "d_key_stream3 = d_logistic_map(dkeys[2], r)\n",
        "d_key_stream4 = d_logistic_map(dkeys[3], r)\n",
        "\n",
        "# Print the first 10 values of the key stream\n",
        "print(d_key_stream1[:10])"
      ]
    },
    {
      "cell_type": "code",
      "source": [
        "# Print the first 10 values of the key stream1 using decrypted value\n",
        "print(d_key_stream1[:10])\n",
        "# Print the first 10 values of the key stream2 using decrypted value\n",
        "print(d_key_stream2[:10])"
      ],
      "metadata": {
        "colab": {
          "base_uri": "https://localhost:8080/"
        },
        "id": "k6tZlhDG4aoL",
        "outputId": "ba15ff17-245b-47e2-d460-aad24332121d"
      },
      "execution_count": null,
      "outputs": [
        {
          "output_type": "stream",
          "name": "stdout",
          "text": [
            "[498, 1641, 2773, 286, 1030, 2623, 822, 2334, 1677, 2750]\n",
            "[1403, 2839, 29, 119, 459, 1537, 2822, 99, 385, 1331]\n"
          ]
        }
      ]
    },
    {
      "cell_type": "code",
      "source": [
        "# Print all the values of the key stream\n",
        "print(d_key_stream1)"
      ],
      "metadata": {
        "colab": {
          "base_uri": "https://localhost:8080/"
        },
        "id": "jtxUym6Z4oEl",
        "outputId": "ee025a32-673c-4dbf-bbd1-b07b1f9ddf7d"
      },
      "execution_count": null,
      "outputs": [
        {
          "output_type": "stream",
          "name": "stdout",
          "text": [
            "[498, 1641, 2773, 286, 1030, 2623, 822, 2334, 1677, 2750, 375, 1300, 2819, 111, 428, 1453, 2839, 32, 130, 497, 1640, 2774, 283, 1018, 2610, 867, 2406, 1485, 2834, 49, 195, 726, 2159, 2081, 2234, 1918, 2496, 1226, 2786, 239, 876, 2421, 1445, 2839, 30, 122, 468, 1562, 2813, 134, 511, 1676, 2751, 371, 1289, 2815, 126, 484, 1603, 2794, 206, 764, 2231, 1926, 2485, 1259, 2802, 175, 657, 2018, 2344, 1652, 2766, 311, 1108, 2701, 551, 1774, 2667, 670, 2046, 2295, 1774, 2667, 670, 2046, 2297, 1771, 2671, 659, 2022, 2337, 1668, 2755, 352, 1234, 2790, 222, 818, 2328, 1694, 2737, 420, 1430, 2840, 28, 112, 432, 1465, 2837, 37, 149, 566, 1812, 2628, 805, 2304, 1752, 2689, 596, 1881, 2546, 1072, 2667, 672, 2049, 2291, 1784, 2657, 705, 2118, 2164, 2071, 2252, 1877, 2551, 1057, 2652, 722, 2152, 2095, 2208, 1977, 2410, 1476, 2836, 43, 173, 649, 2001, 2371, 1580, 2806, 162, 612, 1919, 2496, 1228, 2786, 235, 864, 2401, 1499, 2832, 59, 234, 860, 2395, 1516, 2828, 75, 294, 1055, 2651, 729, 2165, 2069, 2255, 1870, 2560, 1029, 2622, 826, 2340, 1661, 2760, 335, 1181, 2757, 345, 1211, 2777, 271, 980, 2564, 1015, 2606, 878, 2423, 1438, 2840, 29, 116, 446, 1502, 2831, 62, 246, 898, 2454, 1351, 2833, 56, 221, 815, 2323, 1706, 2728, 455, 1527, 2825, 88, 341, 1200, 2770, 296, 1062, 2657, 706, 2120, 2159, 2080, 2234, 1918, 2497, 1224, 2785, 242, 887, 2437, 1400, 2839, 30, 122, 470, 1568, 2810, 144, 547, 1764, 2677, 636, 1972, 2418, 1453, 2839, 32, 131, 500, 1647, 2770, 299, 1070, 2666, 677, 2059, 2272, 1829, 2609, 870, 2411, 1472, 2836, 41, 163, 617, 1930, 2480, 1276, 2810, 146, 556, 1786, 2655, 713, 2134, 2131, 2137, 2125, 2149, 2102, 2195, 2006, 2364, 1600, 2796, 199, 739, 2185, 2027, 2330, 1688, 2741, 405, 1389, 2838, 34, 136, 521, 1700, 2733, 437, 1479, 2836, 44, 178, 667, 2038, 2309, 1739, 2700, 556, 1787, 2654, 716, 2139, 2122, 2156, 2088, 2220, 1949, 2452, 1356, 2834, 52, 206, 766, 2235, 1916, 2500, 1215, 2779, 262, 953, 2530, 1123, 2714, 506, 1662, 2760, 337, 1186, 2761, 330, 1166, 2748, 382, 1320, 2825, 86, 334, 1178, 2756, 352, 1233, 2789, 225, 828, 2344, 1653, 2766, 313, 1114, 2706, 535, 1735, 2704, 541, 1751, 2689, 593, 1875, 2554, 1048, 2643, 755, 2215, 1960, 2436, 1403, 2839, 30, 120, 460, 1541, 2820, 105, 405, 1388, 2838, 34, 137, 524, 1707, 2727, 458, 1534, 2822, 96, 373, 1294, 2817, 119, 457, 1533, 2823, 94, 366, 1274, 2809, 149, 566, 1811, 2629, 801, 2298, 1767, 2674, 646, 1994, 2382, 1551, 2817, 117, 451, 1516, 2828, 75, 294, 1055, 2650, 732, 2170, 2058, 2275, 1823, 2615, 848, 2377, 1565, 2812, 138, 527, 1716, 2719, 486, 1609, 2792, 216, 798, 2293, 1779, 2662, 689, 2086, 2225, 1939, 2466, 1315, 2823, 92, 358, 1252, 2799, 188, 703, 2115, 2170, 2058, 2274, 1825, 2614, 853, 2385, 1543, 2820, 106, 411, 1405, 2839, 29, 118, 454, 1526, 2825, 86, 335, 1180, 2757, 345, 1213, 2778, 268, 970, 2552, 1054, 2649, 735, 2177, 2043, 2301, 1760, 2680, 625, 1947, 2455, 1348, 2832, 58, 231, 851, 2381, 1555, 2816, 123, 471, 1571, 2809, 148, 564, 1805, 2635, 782, 2264, 1850, 2585, 949, 2525, 1138, 2726, 460, 1540, 2821, 102, 397, 1364, 2835, 46, 185, 694, 2094, 2208, 1976, 2412, 1469, 2837, 39, 157, 596, 1882, 2545, 1077, 2672, 653, 2010, 2357, 1617, 2787, 233, 857, 2391, 1528, 2824, 88, 344, 1208, 2775, 278, 1004, 2594, 920, 2485, 1260, 2803, 174, 654, 2010, 2356, 1619, 2786, 237, 871, 2412, 1469, 2837, 39, 156, 591, 1870, 2560, 1030, 2623, 822, 2333, 1679, 2748, 379, 1313, 2823, 94, 367, 1278, 2811, 143, 543, 1755, 2685, 608, 1910, 2508, 1190, 2764, 321, 1139, 2727, 457, 1532, 2823, 93, 360, 1257, 2801, 179, 673, 2051, 2287, 1793, 2648, 738, 2182, 2033, 2318, 1718, 2718, 491, 1624, 2783, 248, 906, 2465, 1319, 2825, 87, 338, 1191, 2764, 319, 1134, 2723, 474, 1578, 2806, 160, 603, 1899, 2523, 1146, 2732, 438, 1479, 2835, 45, 180, 674, 2054, 2283, 1804, 2636, 778, 2257, 1865, 2566, 1009, 2599, 901, 2459, 1337, 2829, 69, 270, 978, 2562, 1022, 2614, 852, 2384, 1547, 2818, 112, 431, 1460, 2838, 35, 140, 535, 1735, 2703, 543, 1756, 2685, 610, 1913, 2503, 1205, 2773, 286, 1030, 2623, 822, 2333, 1679, 2748, 381, 1318, 2824, 88, 344, 1208, 2775, 280, 1008, 2599, 902, 2460, 1333, 2828, 73, 285, 1027, 2620, 833, 2353, 1629, 2780, 258, 939, 2512, 1178, 2756, 351, 1229, 2787, 233, 857, 2392, 1525, 2825, 85, 331, 1169, 2749, 376, 1304, 2820, 106, 410, 1402, 2839, 30, 120, 463, 1548, 2818, 113, 437, 1477, 2836, 43, 174, 653, 2009, 2358, 1615, 2788, 229, 843, 2368, 1589, 2801, 179, 671, 2047, 2294, 1778, 2663, 685, 2076, 2242, 1900, 2521, 1152, 2737, 421, 1433, 2840, 28, 113, 436, 1476, 2836, 43, 172, 648, 1998, 2377, 1564, 2812, 137, 524, 1708, 2726, 461, 1544, 2819, 108, 417, 1423, 2840, 27, 111, 428, 1453, 2839, 32, 131, 500, 1646, 2770, 298, 1067, 2662, 689, 2084, 2228, 1933, 2476, 1287, 2814, 129, 493, 1629, 2781, 258, 939, 2511, 1180, 2757, 346, 1214, 2778, 266, 964, 2545, 1077, 2673, 652, 2007, 2361, 1606, 2793, 211, 783, 2266, 1845, 2591, 930, 2499, 1218, 2781, 257, 935, 2506, 1197, 2768, 304, 1085, 2680, 626, 1949, 2452, 1356, 2834, 52, 207, 768, 2238, 1909, 2509, 1188, 2763, 325, 1151, 2736, 423, 1440, 2839, 29, 117, 450, 1514, 2828, 73, 286, 1029, 2622, 826, 2341, 1660, 2761, 330, 1167, 2748, 379, 1312, 2823, 95, 370, 1288, 2814, 128, 491, 1623, 2784, 245, 895, 2450, 1363, 2835, 47, 189, 707, 2121, 2158, 2083, 2230, 1929, 2482, 1269, 2807, 157, 594, 1878, 2550, 1062, 2657, 707, 2121, 2156, 2086, 2224, 1941, 2463, 1324, 2826, 82, 320, 1136, 2724, 467, 1560, 2814, 131, 501, 1648, 2769, 302, 1080, 2675, 644, 1989, 2390, 1529, 2824, 90, 349, 1223, 2784, 245, 895, 2450, 1363, 2835, 48, 189, 707, 2123, 2154, 2091, 2215, 1960, 2435, 1405, 2839, 29, 118, 455, 1527, 2825, 87, 338, 1190, 2764, 320, 1136, 2725, 466, 1556, 2815, 124, 477, 1585, 2803, 172, 648, 1999, 2376, 1568, 2810, 143, 545, 1759, 2682, 621, 1938, 2468, 1309, 2822, 99, 385, 1329, 2828, 76, 298, 1066, 2662, 691, 2088, 2220, 1950, 2450, 1362, 2835, 48, 192, 716, 2140, 2119, 2161, 2077, 2240, 1905, 2515, 1171, 2751, 370, 1287, 2814, 130, 498, 1640, 2774, 283, 1019, 2611, 863, 2400, 1503, 2831, 63, 247, 903, 2461, 1331, 2828, 74, 290, 1041, 2635, 781, 2262, 1855, 2579, 968, 2550, 1060, 2655, 713, 2134, 2132, 2136, 2128, 2143, 2113, 2172, 2053, 2284, 1801, 2639, 767, 2237, 1910, 2507, 1194, 2766, 312, 1110, 2703, 545, 1760, 2681, 624, 1946, 2457, 1343, 2831, 62, 247, 901, 2458, 1340, 2830, 66, 260, 945, 2519, 1156, 2740, 411, 1404, 2839, 29, 119, 457, 1534, 2823, 95, 370, 1287, 2814, 129, 494, 1630, 2780, 260, 947, 2522, 1148, 2734, 431, 1461, 2838, 35, 143, 544, 1756, 2684, 612, 1918, 2497, 1225, 2785, 242, 886, 2436, 1401, 2839, 30, 122, 467, 1559, 2814, 129, 495, 1632, 2779, 265, 963, 2543, 1082, 2677, 636, 1971, 2419, 1451, 2839, 32, 128, 489, 1618, 2786, 236, 865, 2403, 1494, 2833, 55, 219, 810, 2313, 1730, 2708, 526, 1713, 2722, 477, 1585, 2803, 172, 646, 1994, 2384, 1547, 2818, 112, 432, 1464, 2838, 37, 147, 559, 1795, 2646, 743, 2192, 2011, 2356, 1620, 2786, 239, 875, 2419, 1450, 2839, 31, 127, 486, 1609, 2792, 216, 799, 2294, 1776, 2665, 679, 2063, 2265, 1846, 2589, 935, 2506, 1197, 2768, 305, 1090, 2684, 611, 1916, 2500, 1215, 2780, 262, 951, 2528, 1131, 2720, 483, 1601, 2796, 201, 746, 2198, 1998, 2377, 1565, 2812, 138, 527, 1714, 2721, 479, 1591, 2801, 181, 680, 2066, 2260, 1859, 2574, 985, 2571, 994, 2582, 960, 2539, 1095, 2689, 594, 1876, 2552, 1053, 2648, 736, 2179, 2039, 2309, 1740, 2699, 558, 1792, 2649, 734, 2174, 2049, 2290, 1786, 2656, 711, 2130, 2140, 2121, 2158, 2083, 2230, 1927, 2483, 1265, 2805, 165, 622, 1942, 2463, 1326, 2827, 79, 311, 1107, 2700, 555, 1783, 2658, 703, 2113, 2174, 2051, 2288, 1792, 2649, 733, 2172, 2053, 2284, 1801, 2639, 767, 2236, 1913, 2504, 1204, 2772, 289, 1037, 2631, 795, 2287, 1795, 2646, 745, 2196, 2003, 2369, 1587, 2802, 174, 655, 2013, 2352, 1632, 2779, 264, 958, 2537, 1102, 2695, 572, 1826, 2612, 859, 2394, 1520, 2827, 79, 310, 1105, 2698, 563, 1804, 2636, 777, 2256, 1868, 2563, 1020, 2613, 857, 2391, 1526, 2825, 86, 336, 1184, 2760, 337, 1187, 2762, 329, 1162, 2744, 394, 1357, 2834, 52, 205, 762, 2228, 1933, 2476, 1286, 2814, 131, 500, 1645, 2771, 295, 1058, 2653, 720, 2148, 2104, 2190, 2016, 2348, 1642, 2773, 288, 1034, 2628, 806, 2306, 1748, 2692, 583, 1852, 2582, 959, 2539, 1095, 2690, 593, 1874, 2555, 1045, 2639, 767, 2236, 1913, 2503, 1205, 2773, 286, 1030, 2624, 821, 2331, 1684, 2745, 393, 1354, 2833, 54, 213, 790, 2278, 1816, 2624, 820, 2330, 1688, 2742, 403, 1384, 2838, 36, 144, 549, 1771, 2670, 660, 2024, 2334, 1676, 2750, 372, 1293, 2816, 121, 466, 1556, 2815, 125, 478, 1588, 2802, 177, 666, 2038, 2310, 1737, 2702, 548, 1767, 2674, 646, 1994, 2384, 1547, 2818, 112, 433, 1467, 2837, 38, 153, 579, 1841, 2595, 914, 2477, 1283, 2812, 136, 519, 1695, 2736, 423, 1440, 2839, 29, 117, 451, 1516, 2828, 75, 295, 1057, 2652, 723, 2153, 2093, 2210, 1972, 2418, 1454, 2839, 33, 132, 504, 1657, 2763, 323, 1146, 2732, 439, 1483, 2835, 47, 189, 707, 2122, 2156, 2088, 2220, 1950, 2451, 1359, 2834, 50, 200, 744, 2194, 2006, 2363, 1602, 2795, 203, 755, 2215, 1962, 2433, 1411, 2840, 28, 114, 439, 1483, 2835, 48, 190, 709, 2126, 2147, 2106, 2187, 2022, 2337, 1670, 2755, 356, 1243, 2795, 204, 757, 2219, 1953, 2446, 1373, 2836, 41, 166, 625, 1947, 2456, 1346, 2832, 60, 237, 869, 2410, 1475, 2836, 42, 169, 638, 1976, 2411, 1471, 2837, 40, 162, 610, 1915, 2501, 1212, 2777, 270, 976, 2560, 1029, 2622, 825, 2340, 1663, 2759, 338, 1191, 2764, 319, 1133, 2722, 475, 1582, 2805, 165, 624, 1945, 2458, 1340, 2830, 66, 258, 939, 2512, 1180, 2757, 347, 1219, 2782, 254, 926, 2494, 1232, 2789, 226, 833, 2352, 1630, 2780, 260, 943, 2518, 1161, 2744, 396, 1362, 2835, 48, 191, 715, 2138, 2124, 2151, 2097, 2204, 1985, 2397, 1511, 2829, 70, 277, 1000, 2589, 936, 2507, 1193, 2766, 314, 1116, 2708, 526, 1713, 2722, 475, 1580, 2805, 163, 615, 1926, 2486, 1258, 2802, 177, 666, 2037, 2311, 1735, 2703, 543, 1756, 2685, 610, 1913, 2504, 1204, 2772, 289, 1038, 2632, 792, 2282, 1807, 2634, 787, 2273, 1827, 2611, 863, 2400, 1502, 2831, 62, 243, 891, 2443, 1383, 2838, 36, 146, 555, 1785, 2656, 708, 2124, 2151, 2098, 2202, 1991, 2389, 1534, 2823, 95, 369, 1285, 2813, 133, 508, 1668, 2756, 351, 1231, 2788, 228, 840, 2364, 1599, 2797, 197, 733, 2173, 2051, 2287, 1794, 2648, 739, 2185, 2027, 2329, 1689, 2741, 407, 1394, 2839, 32, 130, 496, 1636, 2776, 273, 988, 2575, 981, 2566, 1011, 2602, 894, 2448, 1369, 2836, 43, 174, 653, 2009, 2359, 1614, 2789, 226, 831, 2350, 1637, 2776, 276, 997, 2585, 947, 2523, 1146, 2732, 439, 1482, 2835, 47, 187, 699, 2106, 2186, 2024, 2334, 1677, 2750, 373, 1297, 2817, 116, 445, 1501, 2831, 61, 240, 878, 2424, 1435, 2840, 28, 114, 439, 1484, 2835, 48, 192, 716, 2139, 2122, 2156, 2087, 2222, 1946, 2457, 1341, 2830, 65, 255, 928, 2496, 1225, 2785, 240, 880, 2426, 1429, 2840, 28, 112, 431, 1462, 2838, 36, 144, 549, 1769, 2672, 653, 2009, 2359, 1613, 2789, 224, 827, 2343, 1655, 2764, 319, 1133, 2722, 475, 1582, 2804, 166, 627, 1953, 2447, 1371, 2836, 43, 170, 641, 1983, 2400, 1503, 2831, 63, 248, 905, 2463, 1324, 2826, 82, 320, 1134, 2723, 473, 1575, 2808, 154, 585, 1856, 2578, 972, 2555, 1044, 2639, 768, 2240, 1905, 2514, 1173, 2752, 364, 1270, 2807, 156, 592, 1873, 2557, 1039, 2634, 786, 2272, 1831, 2606, 878, 2423, 1438, 2840, 29, 116, 447, 1504, 2831, 64, 252, 920, 2485, 1260, 2803, 172, 649, 2000, 2374, 1572, 2809, 150, 569, 1818, 2622, 827, 2342, 1658, 2763, 326, 1152, 2737, 420, 1430, 2840, 28, 112, 432, 1464, 2838, 37, 147, 560, 1796, 2645, 749, 2204, 1985, 2397, 1510, 2829, 69, 273, 988, 2574, 983, 2569, 1001, 2590, 932, 2502, 1209, 2776, 276, 997, 2586, 945, 2520, 1155, 2740, 412, 1407, 2840, 29, 116, 448, 1509, 2829, 69, 270, 977, 2562, 1023, 2616, 847, 2375, 1571, 2809, 148, 562, 1801, 2640, 767, 2236, 1914, 2503, 1207, 2774, 282, 1015, 2607, 877, 2423, 1440, 2839, 29, 117, 451, 1517, 2827, 76, 299, 1071, 2666, 675, 2056, 2278, 1815, 2625, 817, 2325, 1700, 2733, 437, 1478, 2836, 44, 177, 666, 2037, 2312, 1731, 2707, 532, 1727, 2710, 518, 1692, 2739, 414, 1414, 2840, 28, 113, 434, 1469, 2837, 39, 157, 595, 1879, 2548, 1066, 2661, 693, 2093, 2211, 1970, 2421, 1443, 2839, 30, 120, 461, 1543, 2820, 107, 412, 1409, 2840, 28, 115, 444, 1496, 2832, 57, 227, 834, 2354, 1625, 2783, 249, 909, 2469, 1307, 2821, 102, 394, 1358, 2834, 51, 202, 753, 2211, 1970, 2420, 1446, 2839, 30, 123, 471, 1571, 2809, 147, 560, 1796, 2645, 747, 2199, 1996, 2379, 1558, 2814, 128, 491, 1622, 2784, 243, 890, 2442, 1384, 2838, 36, 144, 547, 1765, 2676, 639, 1980, 2405, 1488, 2834, 50, 201, 747, 2199, 1996, 2381, 1555, 2815, 124, 476, 1582, 2804, 167, 629, 1957, 2441, 1389, 2838, 34, 136, 518, 1691, 2739, 413, 1412, 2840, 28, 114, 438, 1479, 2835, 45, 179, 674, 2053, 2284, 1802, 2639, 768, 2239, 1907, 2511, 1180, 2757, 345, 1212, 2777, 270, 977, 2561, 1026, 2619, 835, 2355, 1622, 2784, 244, 893, 2446, 1373, 2836, 41, 166, 625, 1948, 2453, 1353, 2833, 55, 217, 803, 2301, 1759, 2682, 621, 1938, 2468, 1309, 2822, 100, 387, 1335, 2829, 70, 274, 992, 2579, 966, 2548, 1067, 2663, 687, 2080, 2235, 1917, 2498, 1220, 2782, 252, 919, 2484, 1263, 2804, 168, 634, 1968, 2423, 1439, 2840, 29, 116, 447, 1506, 2830, 66, 260, 943, 2518, 1161, 2744, 395, 1360, 2834, 49, 197, 733, 2173, 2053, 2284, 1801, 2640, 765, 2233, 1920, 2493, 1234, 2790, 222, 818, 2327, 1695, 2736, 425, 1443, 2839, 30, 120, 461, 1543, 2820, 107, 412, 1408, 2840, 29, 116, 445, 1501, 2831, 61, 242, 885, 2434, 1408, 2840, 29, 116, 445, 1500, 2832, 60, 238, 871, 2413, 1467, 2837, 38, 152, 578, 1839, 2597, 908, 2469, 1308, 2821, 101, 391, 1347, 2832, 60, 236, 865, 2404, 1493, 2833, 54, 216, 797, 2291, 1783, 2658, 703, 2113, 2173, 2052, 2286, 1796, 2645, 747, 2200, 1995, 2382, 1552, 2817, 119, 456, 1530, 2824, 91, 352, 1234, 2790, 222, 819, 2328, 1692, 2738, 416, 1420, 2840, 27, 111, 429, 1455, 2838, 33, 133, 510, 1671, 2754, 360, 1255, 2801, 181, 680, 2067, 2260, 1859, 2573, 986, 2573, 988, 2574, 983, 2569, 1001, 2590, 933, 2503, 1206, 2774, 283, 1019, 2611, 862, 2399, 1505, 2831, 64, 253, 923, 2490, 1245, 2796, 201, 746, 2199, 1997, 2378, 1562, 2813, 134, 513, 1680, 2748, 382, 1321, 2825, 85, 330, 1166, 2747, 383, 1324, 2826, 81, 318, 1130, 2719, 486, 1609, 2791, 217, 803, 2302, 1757, 2683, 614, 1924, 2489, 1248, 2797, 195, 726, 2160, 2080, 2235, 1915, 2500, 1214, 2779, 266, 964, 2544, 1079, 2674, 647, 1997, 2379, 1559, 2814, 130, 497, 1639, 2774, 281, 1013, 2605, 883, 2432, 1414, 2840, 28, 113, 434, 1471, 2837, 40, 160, 606, 1904, 2515, 1168, 2749, 377, 1307, 2821, 102, 394, 1358, 2834, 51, 203, 755, 2214, 1963, 2431, 1416, 2840, 28, 112, 432, 1463, 2838, 36, 146, 555, 1783, 2658, 704, 2115, 2169, 2059, 2273, 1829, 2609, 868, 2409, 1478, 2836, 44, 177, 663, 2031, 2322, 1708, 2726, 462, 1545, 2819, 109, 422, 1437, 2840, 28, 115, 445, 1499, 2832, 59, 233, 857, 2390, 1529, 2824, 89, 347, 1218, 2781, 257, 935, 2506, 1197, 2768, 305, 1090, 2684, 611, 1916, 2499, 1218, 2781, 257, 935, 2507, 1194, 2766, 311, 1108, 2701, 551, 1776, 2666, 676, 2058, 2274, 1825, 2614, 853, 2384, 1546, 2819, 111, 427, 1451, 2839, 32, 128, 489, 1618, 2786, 236, 865, 2403, 1494, 2833, 56, 221, 815, 2322, 1709, 2726, 463, 1548, 2818, 113, 435, 1473, 2836, 41, 165, 624, 1947, 2456, 1345, 2831, 61, 240, 879, 2425, 1434, 2840, 28, 114, 438, 1480, 2835, 45, 180, 675, 2057, 2277, 1818, 2622, 827, 2342, 1657, 2763, 323, 1146, 2732, 438, 1481, 2835, 46, 183, 684, 2075, 2244, 1896, 2526, 1135, 2724, 470, 1568, 2810, 143, 544, 1758, 2683, 616, 1928, 2482, 1267, 2806, 161, 607, 1907, 2512, 1179, 2756, 350, 1226, 2785, 240, 878, 2423, 1438, 2840, 29, 116, 446, 1503, 2831, 63, 248, 906, 2466, 1316, 2824, 90, 352, 1234, 2790, 223, 824, 2337, 1669, 2755, 355, 1242, 2794, 207, 770, 2242, 1900, 2521, 1150, 2736, 426, 1447, 2839, 31, 124, 474, 1579, 2806, 161, 608, 1909, 2509, 1188, 2763, 326, 1154, 2739, 415, 1415, 2840, 28, 112, 433, 1466, 2837, 38, 151, 573, 1827, 2612, 861, 2397, 1511, 2829, 70, 276, 997, 2585, 947, 2523]\n"
          ]
        }
      ]
    },
    {
      "cell_type": "code",
      "execution_count": null,
      "metadata": {
        "id": "Xo5FQeNmdMoZ"
      },
      "outputs": [],
      "source": [
        "#reversing column permutation on image got from IDCT\n",
        "#Our contribution"
      ]
    },
    {
      "cell_type": "code",
      "execution_count": null,
      "metadata": {
        "id": "v6N-P_1tYz0R"
      },
      "outputs": [],
      "source": [
        "dp_image = Image.open('/content/idct_image.png')\n",
        "dp_image_array = np.array(dp_image)"
      ]
    },
    {
      "cell_type": "code",
      "execution_count": null,
      "metadata": {
        "id": "ibNSTmJ4bqnC"
      },
      "outputs": [],
      "source": [
        "dkey = np.array(d_key_stream2[:5]) # replace with your float array key\n",
        "num_cols1 = dp_image_array.shape[1]\n",
        "re_permutation_indices = np.random.RandomState(seed=dkey).permutation(num_cols1)"
      ]
    },
    {
      "cell_type": "code",
      "execution_count": null,
      "metadata": {
        "id": "XA9eVCHScqUt"
      },
      "outputs": [],
      "source": [
        "inverse_indices = np.argsort(re_permutation_indices)"
      ]
    },
    {
      "cell_type": "code",
      "execution_count": null,
      "metadata": {
        "id": "sADoV-Ezc4cQ"
      },
      "outputs": [],
      "source": [
        "re_permuted_image_array = dp_image_array[:,inverse_indices, :]"
      ]
    },
    {
      "cell_type": "code",
      "execution_count": null,
      "metadata": {
        "id": "-nFxHTnkc_oQ"
      },
      "outputs": [],
      "source": [
        "re_permuted_image = Image.fromarray(re_permuted_image_array)\n",
        "re_permuted_image.save('reverse_col_permuted_image.png')"
      ]
    },
    {
      "cell_type": "code",
      "source": [],
      "metadata": {
        "id": "11KO8m4mabnt"
      },
      "execution_count": null,
      "outputs": []
    },
    {
      "cell_type": "code",
      "execution_count": null,
      "metadata": {
        "id": "bevlxNrFdHEU"
      },
      "outputs": [],
      "source": [
        "#reversing row permutation\n",
        "#Our contribution"
      ]
    },
    {
      "cell_type": "code",
      "execution_count": null,
      "metadata": {
        "id": "i6CLY9SRdW-i"
      },
      "outputs": [],
      "source": [
        "dp_image = Image.open('/content/reverse_col_permuted_image.png')\n",
        "dp_image_array = np.array(dp_image)"
      ]
    },
    {
      "cell_type": "code",
      "execution_count": null,
      "metadata": {
        "id": "vQix2TVxdgIv"
      },
      "outputs": [],
      "source": [
        "dkey1 = np.array(d_key_stream1[:5]) # replace with your float array key\n",
        "num_rows1 = dp_image_array.shape[0]\n",
        "re_permutation_indices = np.random.RandomState(seed=dkey1).permutation(num_rows1)"
      ]
    },
    {
      "cell_type": "code",
      "execution_count": null,
      "metadata": {
        "id": "Ft_6kRUvd219"
      },
      "outputs": [],
      "source": [
        "inverse_indices = np.argsort(re_permutation_indices)"
      ]
    },
    {
      "cell_type": "code",
      "execution_count": null,
      "metadata": {
        "id": "tjwPxDScd6uj"
      },
      "outputs": [],
      "source": [
        "re_permuted_image_array = dp_image_array[inverse_indices, :]"
      ]
    },
    {
      "cell_type": "code",
      "execution_count": null,
      "metadata": {
        "id": "g6Kd1Wk5eDHa"
      },
      "outputs": [],
      "source": [
        "re_permuted_image = Image.fromarray(re_permuted_image_array)\n",
        "re_permuted_image.save('final_decrypted_image.png')"
      ]
    }
  ],
  "metadata": {
    "colab": {
      "provenance": []
    },
    "kernelspec": {
      "display_name": "Python 3",
      "name": "python3"
    },
    "language_info": {
      "name": "python"
    }
  },
  "nbformat": 4,
  "nbformat_minor": 0
}